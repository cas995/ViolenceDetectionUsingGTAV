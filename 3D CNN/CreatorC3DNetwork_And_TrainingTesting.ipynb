{
 "cells": [
  {
   "cell_type": "markdown",
   "metadata": {},
   "source": [
    "## Import Keras and Tensorflow"
   ]
  },
  {
   "cell_type": "code",
   "execution_count": 1,
   "metadata": {},
   "outputs": [
    {
     "name": "stderr",
     "output_type": "stream",
     "text": [
      "Using TensorFlow backend.\n"
     ]
    },
    {
     "name": "stdout",
     "output_type": "stream",
     "text": [
      "WARNING:tensorflow:From /home/ec2-user/anaconda3/envs/tensorflow_p36/lib/python3.6/site-packages/tensorflow_core/__init__.py:1467: The name tf.estimator.inputs is deprecated. Please use tf.compat.v1.estimator.inputs instead.\n",
      "\n",
      "Using Keras 2.2.4\n",
      "TensorFlow version: 1.15.2\n"
     ]
    }
   ],
   "source": [
    "import keras\n",
    "print(\"Using Keras\",keras.__version__)\n",
    "import tensorflow as tf\n",
    "print (\"TensorFlow version: \" + tf.__version__)"
   ]
  },
  {
   "cell_type": "markdown",
   "metadata": {},
   "source": [
    "## Create 3D CNN Model"
   ]
  },
  {
   "cell_type": "code",
   "execution_count": 2,
   "metadata": {},
   "outputs": [],
   "source": [
    "import tensorflow.keras\n",
    "from tensorflow.keras.models import Sequential\n",
    "from tensorflow.keras.layers import Dense, Flatten, Conv3D, MaxPooling3D, ZeroPadding3D, Dropout, Input, Activation,BatchNormalization\n",
    "from tensorflow.keras.regularizers import l1\n",
    "from tensorflow.keras import regularizers\n",
    "from tensorflow.keras.utils import to_categorical\n",
    "import numpy as np\n",
    "import matplotlib.pyplot as plt\n",
    "\n",
    "def get_model2(summary=False):\n",
    "    \"\"\"\n",
    "    Output:\n",
    "        Return the model of the network\n",
    "    \"\"\"  \n",
    "    model = Sequential()\n",
    "\n",
    "    #1st layer of model\n",
    "    model.add(Conv3D(64, kernel_size=(3, 3, 3), #kernel_regularizer=keras.regularizers.l1_l2(0.001), #bias_regularizer=l2(0.01),#kernel_initializer='he_uniform',activation='relu',\n",
    "                    padding='same', name='conv1', \n",
    "                    strides=(1, 1, 1), input_shape=(16, 112, 112, 3)))\n",
    "    model.add(BatchNormalization(axis=-1))\n",
    "    model.add(Activation(\"relu\"))\n",
    "    model.add(MaxPooling3D(pool_size=(1, 2, 2), strides=(1, 2, 2), \n",
    "                            padding='valid', name='pool1'))\n",
    "    #2nd layer of model\n",
    "    model.add(Conv3D(128, kernel_size=(3, 3, 3), #kernel_regularizer=keras.regularizers.l1_l2(0.001), #kernel_regularizer=l2(0.001), #bias_regularizer=l2(0.01),#kernel_initializer='he_uniform',activation='relu',\n",
    "                    padding='same', name='conv2',\n",
    "                    strides=(1, 1, 1)))\n",
    "    model.add(BatchNormalization(axis=-1))\n",
    "    model.add(Activation(\"relu\"))\n",
    "    model.add(MaxPooling3D(pool_size=(2, 2, 2), strides=(2, 2, 2), \n",
    "                            padding='valid', name='pool2'))\n",
    "    #3rd layer of model\n",
    "    model.add(Conv3D(256, kernel_size=(3, 3, 3), #kernel_regularizer=keras.regularizers.l1_l2(0.001), #kernel_regularizer=l2(0.001), #bias_regularizer=l2(0.01),#kernel_initializer='he_uniform',activation='relu',\n",
    "                    padding='same', name='conv3a',\n",
    "                    strides=(1, 1, 1)))\n",
    "    model.add(BatchNormalization(axis=-1))\n",
    "    model.add(Activation(\"relu\"))\n",
    "    model.add(Conv3D(256, kernel_size=(3, 3, 3), #kernel_regularizer=keras.regularizers.l1_l2(0.001), #kernel_regularizer=l2(0.001),  #bias_regularizer=l2(0.01),#kernel_initializer='he_uniform',activation='relu',\n",
    "                    padding='same', name='conv3b',\n",
    "                    strides=(1, 1, 1)))\n",
    "    model.add(BatchNormalization(axis=-1))\n",
    "    model.add(Activation(\"relu\"))\n",
    "    model.add(MaxPooling3D(pool_size=(2, 2, 2), strides=(2, 2, 2), \n",
    "                            padding='valid', name='pool3'))\n",
    "    #4th layer of model\n",
    "    model.add(Conv3D(512, kernel_size=(3, 3, 3), #kernel_regularizer=keras.regularizers.l1_l2(0.001), #kernel_regularizer=l2(0.001), #bias_regularizer=l2(0.01),#kernel_initializer='he_uniform',activation='relu',\n",
    "                    padding='same', name='conv4a',\n",
    "                      strides=(1, 1, 1)))\n",
    "    model.add(BatchNormalization(axis=-1))\n",
    "    model.add(Activation(\"relu\"))\n",
    "    model.add(Conv3D(512, kernel_size=(3, 3, 3), #kernel_regularizer=keras.regularizers.l1_l2(0.001), #kernel_regularizer=l2(0.001), #bias_regularizer=l2(0.01),#kernel_initializer='he_uniform',activation='relu',\n",
    "                    padding='same', name='conv4b',\n",
    "                    strides=(1, 1, 1)))\n",
    "    model.add(BatchNormalization(axis=-1))\n",
    "    model.add(Activation(\"relu\"))\n",
    "    model.add(MaxPooling3D(pool_size=(2, 2, 2), strides=(2, 2, 2), \n",
    "                            padding='valid', name='pool4'))\n",
    "    #5th layer of model\n",
    "    model.add(Conv3D(512, kernel_size=(3, 3, 3), #kernel_regularizer=keras.regularizers.l1_l2(0.001), #kernel_regularizer=l2(0.001), #bias_regularizer=l2(0.01),#kernel_initializer='he_uniform',activation='relu',\n",
    "                    padding='same', name='conv5a',\n",
    "                    strides=(1, 1, 1)))\n",
    "    model.add(BatchNormalization(axis=-1))\n",
    "    model.add(Activation(\"relu\"))\n",
    "    model.add(Conv3D(512, kernel_size=(3, 3, 3),# kernel_regularizer=keras.regularizers.l1_l2(0.001), #kernel_regularizer=l2(0.001), #bias_regularizer=l2(0.01),#kernel_initializer='he_uniform',activation='relu',\n",
    "                    padding='same', name='conv5b',\n",
    "                    strides=(1, 1, 1)))\n",
    "    model.add(BatchNormalization(axis=-1))\n",
    "    model.add(Activation(\"relu\"))\n",
    "    model.add(ZeroPadding3D(padding=(0, 1, 1)))\n",
    "    model.add(MaxPooling3D(pool_size=(2, 2, 2), strides=(2, 2, 2), \n",
    "                            padding='valid', name='pool5'))\n",
    "    model.add(Flatten())\n",
    "    # FC layers group\n",
    "    model.add(Dense(4096, activation='relu', name='fc6'))\n",
    "    model.add(Dropout(.5))\n",
    "    model.add(Dense(4096, activation='relu', name='fc7'))\n",
    "    model.add(Dropout(.5))\n",
    "    model.add(Dense(1, activation='sigmoid', name='fc8'))\n",
    "    if summary:\n",
    "        print(model.summary())\n",
    "    return model"
   ]
  },
  {
   "cell_type": "markdown",
   "metadata": {},
   "source": [
    "## Summary of the 3D CNN model"
   ]
  },
  {
   "cell_type": "code",
   "execution_count": 3,
   "metadata": {},
   "outputs": [
    {
     "name": "stdout",
     "output_type": "stream",
     "text": [
      "WARNING:tensorflow:From /home/ec2-user/anaconda3/envs/tensorflow_p36/lib/python3.6/site-packages/tensorflow_core/python/ops/resource_variable_ops.py:1630: calling BaseResourceVariable.__init__ (from tensorflow.python.ops.resource_variable_ops) with constraint is deprecated and will be removed in a future version.\n",
      "Instructions for updating:\n",
      "If using Keras pass *_constraint arguments to layers.\n",
      "Model: \"sequential\"\n",
      "_________________________________________________________________\n",
      "Layer (type)                 Output Shape              Param #   \n",
      "=================================================================\n",
      "conv1 (Conv3D)               (None, 16, 112, 112, 64)  5248      \n",
      "_________________________________________________________________\n",
      "batch_normalization (BatchNo (None, 16, 112, 112, 64)  256       \n",
      "_________________________________________________________________\n",
      "activation (Activation)      (None, 16, 112, 112, 64)  0         \n",
      "_________________________________________________________________\n",
      "pool1 (MaxPooling3D)         (None, 16, 56, 56, 64)    0         \n",
      "_________________________________________________________________\n",
      "conv2 (Conv3D)               (None, 16, 56, 56, 128)   221312    \n",
      "_________________________________________________________________\n",
      "batch_normalization_1 (Batch (None, 16, 56, 56, 128)   512       \n",
      "_________________________________________________________________\n",
      "activation_1 (Activation)    (None, 16, 56, 56, 128)   0         \n",
      "_________________________________________________________________\n",
      "pool2 (MaxPooling3D)         (None, 8, 28, 28, 128)    0         \n",
      "_________________________________________________________________\n",
      "conv3a (Conv3D)              (None, 8, 28, 28, 256)    884992    \n",
      "_________________________________________________________________\n",
      "batch_normalization_2 (Batch (None, 8, 28, 28, 256)    1024      \n",
      "_________________________________________________________________\n",
      "activation_2 (Activation)    (None, 8, 28, 28, 256)    0         \n",
      "_________________________________________________________________\n",
      "conv3b (Conv3D)              (None, 8, 28, 28, 256)    1769728   \n",
      "_________________________________________________________________\n",
      "batch_normalization_3 (Batch (None, 8, 28, 28, 256)    1024      \n",
      "_________________________________________________________________\n",
      "activation_3 (Activation)    (None, 8, 28, 28, 256)    0         \n",
      "_________________________________________________________________\n",
      "pool3 (MaxPooling3D)         (None, 4, 14, 14, 256)    0         \n",
      "_________________________________________________________________\n",
      "conv4a (Conv3D)              (None, 4, 14, 14, 512)    3539456   \n",
      "_________________________________________________________________\n",
      "batch_normalization_4 (Batch (None, 4, 14, 14, 512)    2048      \n",
      "_________________________________________________________________\n",
      "activation_4 (Activation)    (None, 4, 14, 14, 512)    0         \n",
      "_________________________________________________________________\n",
      "conv4b (Conv3D)              (None, 4, 14, 14, 512)    7078400   \n",
      "_________________________________________________________________\n",
      "batch_normalization_5 (Batch (None, 4, 14, 14, 512)    2048      \n",
      "_________________________________________________________________\n",
      "activation_5 (Activation)    (None, 4, 14, 14, 512)    0         \n",
      "_________________________________________________________________\n",
      "pool4 (MaxPooling3D)         (None, 2, 7, 7, 512)      0         \n",
      "_________________________________________________________________\n",
      "conv5a (Conv3D)              (None, 2, 7, 7, 512)      7078400   \n",
      "_________________________________________________________________\n",
      "batch_normalization_6 (Batch (None, 2, 7, 7, 512)      2048      \n",
      "_________________________________________________________________\n",
      "activation_6 (Activation)    (None, 2, 7, 7, 512)      0         \n",
      "_________________________________________________________________\n",
      "conv5b (Conv3D)              (None, 2, 7, 7, 512)      7078400   \n",
      "_________________________________________________________________\n",
      "batch_normalization_7 (Batch (None, 2, 7, 7, 512)      2048      \n",
      "_________________________________________________________________\n",
      "activation_7 (Activation)    (None, 2, 7, 7, 512)      0         \n",
      "_________________________________________________________________\n",
      "zero_padding3d (ZeroPadding3 (None, 2, 9, 9, 512)      0         \n",
      "_________________________________________________________________\n",
      "pool5 (MaxPooling3D)         (None, 1, 4, 4, 512)      0         \n",
      "_________________________________________________________________\n",
      "flatten (Flatten)            (None, 8192)              0         \n",
      "_________________________________________________________________\n",
      "fc6 (Dense)                  (None, 4096)              33558528  \n",
      "_________________________________________________________________\n",
      "dropout (Dropout)            (None, 4096)              0         \n",
      "_________________________________________________________________\n",
      "fc7 (Dense)                  (None, 4096)              16781312  \n",
      "_________________________________________________________________\n",
      "dropout_1 (Dropout)          (None, 4096)              0         \n",
      "_________________________________________________________________\n",
      "fc8 (Dense)                  (None, 1)                 4097      \n",
      "=================================================================\n",
      "Total params: 78,010,881\n",
      "Trainable params: 78,005,377\n",
      "Non-trainable params: 5,504\n",
      "_________________________________________________________________\n",
      "None\n"
     ]
    },
    {
     "data": {
      "text/plain": [
       "<tensorflow.python.keras.engine.sequential.Sequential at 0x7ffab561c780>"
      ]
     },
     "execution_count": 3,
     "metadata": {},
     "output_type": "execute_result"
    }
   ],
   "source": [
    "model2 = get_model2(summary=True)   \n",
    "model2"
   ]
  },
  {
   "cell_type": "markdown",
   "metadata": {},
   "source": [
    "## X-data: Combine augmentation techniques with original data"
   ]
  },
  {
   "cell_type": "markdown",
   "metadata": {},
   "source": [
    "### X-train"
   ]
  },
  {
   "cell_type": "code",
   "execution_count": null,
   "metadata": {},
   "outputs": [],
   "source": [
    "from io import BytesIO\n",
    "import boto3\n",
    "import pandas as pd\n",
    "import numpy as np\n",
    "client = boto3.client('s3')\n",
    "bucket = \"thesis-data-augmentation-data\"\n",
    "\n",
    "file_Xdata_MixTraditionalTechniquesAugmentationTrain = \"X_data_MixTraditionalTechniquesAugmentationTrain.npy\"\n",
    "obj_x_train_style = client.get_object(Bucket= bucket, Key=file_Xdata_MixTraditionalTechniquesAugmentationTrain)\n",
    "array_x_train = np.load(BytesIO(obj_x_train_style['Body'].read()))\n",
    "\n",
    "print('successfully loaded augmentation train')"
   ]
  },
  {
   "cell_type": "code",
   "execution_count": null,
   "metadata": {},
   "outputs": [],
   "source": [
    "file_Xdata_StyleAugmentationTrain = \"X_data_StyleAugmentationTrain.npy\"\n",
    "obj_x_train_styleAugmentation = client.get_object(Bucket= bucket, Key=file_Xdata_StyleAugmentationTrain)\n",
    "arrayStyleAug_x_train = np.load(BytesIO(obj_x_train_styleAugmentation['Body'].read()))\n",
    "\n",
    "print('successfully loaded style augmentation train')"
   ]
  },
  {
   "cell_type": "code",
   "execution_count": null,
   "metadata": {},
   "outputs": [],
   "source": [
    "print(len(arrayStyleAug_x_train))\n",
    "array_x_train = array_x_train[:468]\n",
    "arrayStyleAug_x_train = arrayStyleAug_x_train[468:935] "
   ]
  },
  {
   "cell_type": "code",
   "execution_count": null,
   "metadata": {},
   "outputs": [],
   "source": [
    "import numpy as np\n",
    "xdata_concatenated_array_train = np.concatenate((array_x_train,arrayStyleAug_x_train))\n",
    "print('Xtrain concatenated succesfully')"
   ]
  },
  {
   "cell_type": "code",
   "execution_count": null,
   "metadata": {},
   "outputs": [],
   "source": [
    "file_Xdata_OriginalAugmentationTrain = \"X_data_OriginalImagesTrain.npy\"\n",
    "obj_x_train_original = client.get_object(Bucket= bucket, Key=file_Xdata_OriginalAugmentationTrain)\n",
    "array_x_train_original = np.load(BytesIO(obj_x_train_original['Body'].read()))\n",
    "\n",
    "print('successfully loaded original train')"
   ]
  },
  {
   "cell_type": "code",
   "execution_count": null,
   "metadata": {},
   "outputs": [],
   "source": [
    "import numpy as np\n",
    "xdata_concatenated_array_train = np.concatenate((array_x_train_original,xdata_concatenated_array_train))\n",
    "print('XtrainMix concatenated succesfully')"
   ]
  },
  {
   "cell_type": "code",
   "execution_count": null,
   "metadata": {},
   "outputs": [],
   "source": [
    "file_Xdata_OriginalAugmentationTrain =[]\n",
    "obj_x_train_original =[]\n",
    "array_x_train_original =[]\n",
    "arrayStyleAug_x_train =[]\n",
    "array_x_train =[]\n",
    "file_Xdata_StyleAugmentationTrain =[]\n",
    "file_Xdata_MixTraditionalTechniquesAugmentationTrain =[]\n",
    "obj_x_train_style = []"
   ]
  },
  {
   "cell_type": "markdown",
   "metadata": {},
   "source": [
    "### X-test"
   ]
  },
  {
   "cell_type": "code",
   "execution_count": null,
   "metadata": {},
   "outputs": [],
   "source": [
    "from io import BytesIO\n",
    "import boto3\n",
    "import pandas as pd\n",
    "import numpy as np\n",
    "client = boto3.client('s3')\n",
    "bucket = \"thesis-data-augmentation-data\"\n",
    "\n",
    "file_Xdata_MixTraditionalTechniquesAugmentationTest = \"X_data_MixTraditionalTechniquesAugmentationTest.npy\"\n",
    "obj_x_test_style = client.get_object(Bucket= bucket, Key=file_Xdata_MixTraditionalTechniquesAugmentationTest)\n",
    "array_x_test = np.load(BytesIO(obj_x_test_style['Body'].read()))\n",
    "\n",
    "print('successfully loaded augmentation test')"
   ]
  },
  {
   "cell_type": "code",
   "execution_count": null,
   "metadata": {},
   "outputs": [],
   "source": [
    "file_Xdata_StyleAugmentationTest = \"X_data_StyleAugmentationTest.npy\"\n",
    "obj_x_test_styleAugmentation = client.get_object(Bucket= bucket, Key=file_Xdata_StyleAugmentationTest)\n",
    "arrayStyleAug_x_test = np.load(BytesIO(obj_x_test_styleAugmentation['Body'].read()))\n",
    "\n",
    "print('successfully loaded style augmentation test')"
   ]
  },
  {
   "cell_type": "code",
   "execution_count": null,
   "metadata": {},
   "outputs": [],
   "source": [
    "print(len(array_x_test))\n",
    "array_x_test = array_x_test[:156]\n",
    "arrayStyleAug_x_test = arrayStyleAug_x_test[156:312]"
   ]
  },
  {
   "cell_type": "code",
   "execution_count": null,
   "metadata": {},
   "outputs": [],
   "source": [
    "import numpy as np\n",
    "xdata_concatenated_array_test = np.concatenate((array_x_test,arrayStyleAug_x_test))\n",
    "print('XtestMix concatenated succesfully')"
   ]
  },
  {
   "cell_type": "code",
   "execution_count": null,
   "metadata": {},
   "outputs": [],
   "source": [
    "file_Xdata_OriginalAugmentationTest = \"X_data_OriginalImagesTest.npy\"\n",
    "obj_x_test_original = client.get_object(Bucket= bucket, Key=file_Xdata_OriginalAugmentationTest)\n",
    "array_x_test_original = np.load(BytesIO(obj_x_test_original['Body'].read()))\n",
    "\n",
    "print('successfully loaded original test')"
   ]
  },
  {
   "cell_type": "code",
   "execution_count": null,
   "metadata": {},
   "outputs": [],
   "source": [
    "import numpy as np\n",
    "xdata_concatenated_array_test = np.concatenate((array_x_test_original,xdata_concatenated_array_test))\n",
    "print('Xtest concatenated succesfully')"
   ]
  },
  {
   "cell_type": "code",
   "execution_count": null,
   "metadata": {},
   "outputs": [],
   "source": [
    "file_Xdata_OriginalAugmentationTest =[]\n",
    "obj_x_test_original =[]\n",
    "array_x_test_original =[]\n",
    "arrayStyleAug_x_test =[]\n",
    "array_x_test =[]\n",
    "file_Xdata_StyleAugmentationTest =[]\n",
    "file_Xdata_MixTraditionalTechniquesAugmentationTest =[]\n",
    "obj_x_test_style = []"
   ]
  },
  {
   "cell_type": "markdown",
   "metadata": {},
   "source": [
    "## Y-data: Combine augmentation techniques with original data"
   ]
  },
  {
   "cell_type": "markdown",
   "metadata": {},
   "source": [
    "### Y-train"
   ]
  },
  {
   "cell_type": "code",
   "execution_count": null,
   "metadata": {},
   "outputs": [],
   "source": [
    "from io import BytesIO\n",
    "import boto3\n",
    "import pandas as pd\n",
    "import numpy as np\n",
    "client = boto3.client('s3')\n",
    "bucket = \"thesis-data-augmentation-data\"\n",
    "\n",
    "file_Ydata_MixTraditionalTechniquesAugmentationTrain = \"Y_data_MixTraditionalTechniquesAugmentationTrain.npy\"\n",
    "obj_y_train_style = client.get_object(Bucket= bucket, Key=file_Ydata_MixTraditionalTechniquesAugmentationTrain)\n",
    "array_y_train = np.load(BytesIO(obj_y_train_style['Body'].read()))\n",
    "\n",
    "print('successfully loaded augmentation train')"
   ]
  },
  {
   "cell_type": "code",
   "execution_count": null,
   "metadata": {},
   "outputs": [],
   "source": [
    "file_Ydata_StyleAugmentationTrain = \"Y_data_StyleAugmentationTrain.npy\"\n",
    "obj_y_train_styleAugmentation = client.get_object(Bucket= bucket, Key=file_Ydata_StyleAugmentationTrain)\n",
    "arrayStyleAug_y_train = np.load(BytesIO(obj_y_train_styleAugmentation['Body'].read()))\n",
    "\n",
    "print('successfully loaded style augmentation train')"
   ]
  },
  {
   "cell_type": "code",
   "execution_count": null,
   "metadata": {},
   "outputs": [],
   "source": [
    "print(len(arrayStyleAug_y_train))\n",
    "array_y_train = array_y_train[:468]\n",
    "arrayStyleAug_y_train= arrayStyleAug_y_train[468:935]"
   ]
  },
  {
   "cell_type": "code",
   "execution_count": null,
   "metadata": {},
   "outputs": [],
   "source": [
    "import numpy as np\n",
    "ydata_concatenated_array_train = np.concatenate((array_y_train,arrayStyleAug_y_train))\n",
    "print('Ytrain concatenated succesfully')"
   ]
  },
  {
   "cell_type": "code",
   "execution_count": null,
   "metadata": {},
   "outputs": [],
   "source": [
    "file_Ydata_OriginalAugmentationTrain = \"Y_data_OriginalImagesTrain.npy\"\n",
    "obj_y_train_original = client.get_object(Bucket= bucket, Key=file_Ydata_OriginalAugmentationTrain)\n",
    "array_y_train_original = np.load(BytesIO(obj_y_train_original['Body'].read()))\n",
    "\n",
    "print('successfully loaded original train')"
   ]
  },
  {
   "cell_type": "code",
   "execution_count": null,
   "metadata": {},
   "outputs": [],
   "source": [
    "import numpy as np\n",
    "ydata_concatenated_array_train = np.concatenate((array_y_train_original,ydata_concatenated_array_train))\n",
    "print('YtrainMix concatenated succesfully')"
   ]
  },
  {
   "cell_type": "code",
   "execution_count": null,
   "metadata": {},
   "outputs": [],
   "source": [
    "file_Ydata_OriginalAugmentationTrain =[]\n",
    "obj_y_train_original =[]\n",
    "array_y_train_original =[]\n",
    "arrayStyleAug_y_train =[]\n",
    "array_y_train =[]\n",
    "file_Ydata_StyleAugmentationTrain =[]\n",
    "file_Ydata_MixTraditionalTechniquesAugmentationTrain =[]\n",
    "obj_y_train_style = []"
   ]
  },
  {
   "cell_type": "markdown",
   "metadata": {},
   "source": [
    "### Y-test"
   ]
  },
  {
   "cell_type": "code",
   "execution_count": null,
   "metadata": {},
   "outputs": [],
   "source": [
    "from io import BytesIO\n",
    "import boto3\n",
    "import pandas as pd\n",
    "import numpy as np\n",
    "client = boto3.client('s3')\n",
    "bucket = \"thesis-data-augmentation-data\"\n",
    "\n",
    "file_Ydata_MixTraditionalTechniquesAugmentationTest = \"Y_data_MixTraditionalTechniquesAugmentationTest.npy\"\n",
    "obj_y_test_style = client.get_object(Bucket= bucket, Key=file_Ydata_MixTraditionalTechniquesAugmentationTest)\n",
    "array_y_test = np.load(BytesIO(obj_y_test_style['Body'].read()))\n",
    "\n",
    "print('successfully loaded augmentation test')"
   ]
  },
  {
   "cell_type": "code",
   "execution_count": null,
   "metadata": {},
   "outputs": [],
   "source": [
    "file_Ydata_StyleAugmentationTest = \"Y_data_StyleAugmentationTest.npy\"\n",
    "obj_y_test_styleAugmentation = client.get_object(Bucket= bucket, Key=file_Ydata_StyleAugmentationTest)\n",
    "arrayStyleAug_y_test = np.load(BytesIO(obj_y_test_styleAugmentation['Body'].read()))\n",
    "\n",
    "print('successfully loaded style augmentation test')"
   ]
  },
  {
   "cell_type": "code",
   "execution_count": null,
   "metadata": {},
   "outputs": [],
   "source": [
    "print(len(arrayStyleAug_y_test))\n",
    "array_y_test = array_y_test[:156]\n",
    "arrayStyleAug_y_test= arrayStyleAug_y_test[156:312]"
   ]
  },
  {
   "cell_type": "code",
   "execution_count": null,
   "metadata": {},
   "outputs": [],
   "source": [
    "import numpy as np\n",
    "ydata_concatenated_array_test = np.concatenate((array_y_test,arrayStyleAug_y_test))\n",
    "print('Ytest concatenated succesfully')"
   ]
  },
  {
   "cell_type": "code",
   "execution_count": null,
   "metadata": {},
   "outputs": [],
   "source": [
    "file_Ydata_OriginalAugmentationTest = \"Y_data_OriginalImagesTest.npy\"\n",
    "obj_y_test_original = client.get_object(Bucket= bucket, Key=file_Ydata_OriginalAugmentationTest)\n",
    "array_y_test_original = np.load(BytesIO(obj_y_test_original['Body'].read()))\n",
    "\n",
    "print('successfully loaded original test')"
   ]
  },
  {
   "cell_type": "code",
   "execution_count": null,
   "metadata": {},
   "outputs": [],
   "source": [
    "import numpy as np\n",
    "ydata_concatenated_array_test = np.concatenate((array_y_test_original,ydata_concatenated_array_test))\n",
    "print('YestMix concatenated succesfully')"
   ]
  },
  {
   "cell_type": "code",
   "execution_count": null,
   "metadata": {},
   "outputs": [],
   "source": [
    "file_Ydata_OriginalAugmentationTest =[]\n",
    "obj_y_test_original =[]\n",
    "array_y_test_original =[]\n",
    "arrayStyleAug_y_test =[]\n",
    "array_y_test =[]\n",
    "file_Ydata_StyleAugmentationTest =[]\n",
    "file_Ydata_MixTraditionalTechniquesAugmentationTest =[]\n",
    "obj_y_test_style = []"
   ]
  },
  {
   "cell_type": "code",
   "execution_count": null,
   "metadata": {},
   "outputs": [],
   "source": []
  },
  {
   "cell_type": "markdown",
   "metadata": {},
   "source": [
    "## Load original data (without augmentation)"
   ]
  },
  {
   "cell_type": "code",
   "execution_count": null,
   "metadata": {},
   "outputs": [],
   "source": [
    "import boto3\n",
    "import pandas as pd\n",
    "\n",
    "bucket = \"thesis-data-augmentation-data\"\n",
    "file = \"leeftijd_top_10.xlsx\"\n",
    "file_Xdata_augmentationTryTrain = \"X_data_AugmentationTryTrain.npy\"\n",
    "file_Xdata_augmentationTryTest = \"X_data_AugmentationTryTest.npy\"\n",
    "file_Ydata_augmentationTryTrain = \"Y_data_AugmentationTryTrainOneList.npy\"\n",
    "file_Ydata_augmentationTryTest = \"Y_data_AugmentationTryTestOneList.npy\""
   ]
  },
  {
   "cell_type": "code",
   "execution_count": null,
   "metadata": {},
   "outputs": [],
   "source": [
    "from io import BytesIO\n",
    "import boto3\n",
    "import numpy as np\n",
    "\n",
    "client = boto3.client('s3') #low-level functional API\n",
    "\n",
    "obj_x_train = client.get_object(Bucket= bucket, Key=file_Xdata_augmentationTryTrain)\n",
    "obj_x_test = client.get_object(Bucket= bucket, Key=file_Xdata_augmentationTryTest)\n",
    "obj_y_train = client.get_object(Bucket= bucket, Key=file_Ydata_augmentationTryTrain)\n",
    "obj_y_test = client.get_object(Bucket= bucket, Key=file_Ydata_augmentationTryTest)\n",
    "\n",
    "array_x_train = np.load(BytesIO(obj_x_train['Body'].read()))\n",
    "array_x_test = np.load(BytesIO(obj_x_test['Body'].read()))\n",
    "array_y_train = np.load(BytesIO(obj_y_train['Body'].read()))\n",
    "array_y_test = np.load(BytesIO(obj_y_test['Body'].read()))"
   ]
  },
  {
   "cell_type": "code",
   "execution_count": null,
   "metadata": {},
   "outputs": [],
   "source": [
    "#get summary of loaded data\n",
    "def data_summary(X_train, y_train, X_test, y_test):\n",
    "    \"\"\"Summarize current state of dataset\"\"\"\n",
    "    print('Train images shape:', X_train.shape)\n",
    "    print('Train labels shape:', y_train.shape)\n",
    "    print('Test images shape:', X_test.shape)\n",
    "    print('Test labels shape:', y_test.shape)\n",
    "    print('Train labels:', y_train)\n",
    "    print('Test labels:', y_test)\n",
    "\n",
    "data_summary(array_x_train, array_y_train, array_x_test, array_y_test)"
   ]
  },
  {
   "cell_type": "code",
   "execution_count": null,
   "metadata": {},
   "outputs": [],
   "source": [
    "x_val = array_x_test[-625:]\n",
    "y_val = array_y_test[-625:]\n",
    "array_x_test = array_x_test[:625]\n",
    "array_y_test = array_y_test[:625]"
   ]
  },
  {
   "cell_type": "code",
   "execution_count": null,
   "metadata": {},
   "outputs": [],
   "source": [
    "from tensorflow.python.client import device_lib\n",
    "print(device_lib.list_local_devices())"
   ]
  },
  {
   "cell_type": "code",
   "execution_count": null,
   "metadata": {},
   "outputs": [],
   "source": []
  },
  {
   "cell_type": "markdown",
   "metadata": {},
   "source": [
    "## Train the model with sequence data"
   ]
  },
  {
   "cell_type": "code",
   "execution_count": null,
   "metadata": {},
   "outputs": [],
   "source": [
    "from tensorflow.keras.callbacks import ModelCheckpoint\n",
    "\n",
    "with tf.device('/gpu:0'):\n",
    "    nr_epochs = 40\n",
    "    batches_size = 16\n",
    "\n",
    "    from tensorflow.keras.optimizers import SGD\n",
    "    tf.debugging.set_log_device_placement(True)\n",
    "    sgd = SGD(lr=0.001)\n",
    "\n",
    "    model2.compile(optimizer=sgd, loss='binary_crossentropy', metrics=['accuracy'])\n",
    "\n",
    "    # Save the model\n",
    "    model_json = model2.to_json()\n",
    "    with open(\"basicweights/model.json\", \"w\") as json_file:\n",
    "        json_file.write(model_json)\n",
    "\n",
    "    # Save the weights using a checkpoint and save it model parameters to file each time it get better results.\n",
    "    filepath=\"basicweights/weights-improvement-{epoch:02d}-{val_acc:.2f}.hdf5\"\n",
    "    checkpoint = ModelCheckpoint(filepath, monitor='val_acc', verbose=1, save_best_only=True, mode='max')\n",
    "    callbacks_list = [checkpoint]\n",
    "    \n",
    "    \n",
    "    full_history = []\n",
    "\n",
    "\n",
    "    history = model2.fit(x=array_x_train, y=array_y_train, batch_size=batches_size, \n",
    "                         epochs=nr_epochs, validation_data=(x_val, y_val), verbose=1,\n",
    "                          callbacks=callbacks_list,shuffle=True, initial_epoch=0 )\n"
   ]
  },
  {
   "cell_type": "code",
   "execution_count": null,
   "metadata": {},
   "outputs": [],
   "source": [
    "print(history.history.keys())"
   ]
  },
  {
   "cell_type": "markdown",
   "metadata": {},
   "source": [
    "## Plot the results of the trained model"
   ]
  },
  {
   "cell_type": "code",
   "execution_count": null,
   "metadata": {},
   "outputs": [],
   "source": [
    "from matplotlib import pyplot as plt\n",
    "# summarize history for accuracy\n",
    "plt.plot(history.history['acc'])\n",
    "plt.plot(history.history['val_acc'])\n",
    "plt.title('model accuracy')\n",
    "plt.ylabel('accuracy')\n",
    "plt.xlabel('epoch')\n",
    "plt.legend(['train', 'test'], loc='upper left')\n",
    "plt.show()\n",
    "# summarize history for loss\n",
    "plt.plot(history.history['loss'])\n",
    "plt.plot(history.history['val_loss'])\n",
    "plt.title('model loss')\n",
    "plt.ylabel('loss')\n",
    "plt.xlabel('epoch')\n",
    "plt.legend(['train', 'test'], loc='upper left')\n",
    "plt.show()"
   ]
  },
  {
   "cell_type": "markdown",
   "metadata": {},
   "source": [
    "#### Load trained model and evaluate with confusion matrix metrics"
   ]
  },
  {
   "cell_type": "code",
   "execution_count": null,
   "metadata": {},
   "outputs": [],
   "source": [
    "model2.load_weights('weights>40epochs/weights-improvement-47-0.88.hdf5')\n",
    "from tensorflow.keras.optimizers import SGD\n",
    "sgd = SGD(lr=0.001)\n",
    "model2.compile(optimizer=sgd, loss='binary_crossentropy', metrics=['accuracy'])\n",
    "\n",
    "\n",
    "# Evaluate the model on the test data using `evaluate`\n",
    "print('\\n# Evaluate on test data')\n",
    "results = model2.evaluate(array_x_test, array_y_test, batch_size=16)\n",
    "print('test loss, test acc:', results)"
   ]
  },
  {
   "cell_type": "code",
   "execution_count": null,
   "metadata": {},
   "outputs": [],
   "source": [
    "from sklearn.metrics import roc_curve\n",
    "y_pred_keras = model2.predict(array_x_test).ravel()\n",
    "fpr_keras, tpr_keras, thresholds_keras = roc_curve(array_y_test, y_pred_keras)\n"
   ]
  },
  {
   "cell_type": "code",
   "execution_count": null,
   "metadata": {},
   "outputs": [],
   "source": [
    "def plot_roc_curve(fpr,tpr): \n",
    "    plt.plot(fpr,tpr) \n",
    "    plt.axis([0,1,0,1]) \n",
    "    plt.xlabel('False Positive Rate') \n",
    "    plt.ylabel('True Positive Rate') \n",
    "    plt.show()    \n",
    "  \n",
    "plot_roc_curve(fpr_keras,tpr_keras) "
   ]
  },
  {
   "cell_type": "code",
   "execution_count": null,
   "metadata": {},
   "outputs": [],
   "source": [
    "from sklearn.metrics import roc_curve,roc_auc_score\n",
    "auc_score=roc_auc_score(array_y_test, y_pred_keras) \n",
    "auc_score"
   ]
  },
  {
   "cell_type": "code",
   "execution_count": null,
   "metadata": {},
   "outputs": [],
   "source": [
    "from sklearn.metrics import precision_score , recall_score\n",
    " \n",
    "y_val_pred=model2.predict_classes(array_x_test)\n",
    " \n",
    "print(precision_score(array_y_test,y_val_pred,average=None))"
   ]
  },
  {
   "cell_type": "code",
   "execution_count": null,
   "metadata": {},
   "outputs": [],
   "source": [
    "print(recall_score(array_y_test,y_val_pred,average=None))"
   ]
  },
  {
   "cell_type": "code",
   "execution_count": null,
   "metadata": {},
   "outputs": [],
   "source": [
    "from sklearn.metrics import classification_report\n",
    " \n",
    "print(classification_report(array_y_test, y_val_pred))"
   ]
  },
  {
   "cell_type": "markdown",
   "metadata": {},
   "source": [
    "## Test on movies fight data"
   ]
  },
  {
   "cell_type": "code",
   "execution_count": null,
   "metadata": {},
   "outputs": [],
   "source": [
    "import boto3\n",
    "import pandas as pd\n",
    "\n",
    "bucket = \"thesis-data-augmentation-data\"\n",
    "file = \"leeftijd_top_10.xlsx\"\n",
    "file_X_MoviesFights = \"X_data_MoviesFights.npy\"\n",
    "\n",
    "file_Y_MoviesFights = \"Y_data_MoviesFights.npy\""
   ]
  },
  {
   "cell_type": "code",
   "execution_count": null,
   "metadata": {},
   "outputs": [],
   "source": [
    "from io import BytesIO\n",
    "import boto3\n",
    "import numpy as np\n",
    "\n",
    "client = boto3.client('s3') #low-level functional API\n",
    "\n",
    "obj_x_moviesfight = client.get_object(Bucket= bucket, Key=file_X_MoviesFights)\n",
    "obj_y_moviesfight = client.get_object(Bucket= bucket, Key=file_Y_MoviesFights)\n",
    "\n",
    "array_x_moviesfight = np.load(BytesIO(obj_x_moviesfight['Body'].read()))\n",
    "\n",
    "array_y_moviesfight = np.load(BytesIO(obj_y_moviesfight['Body'].read()))"
   ]
  },
  {
   "cell_type": "markdown",
   "metadata": {},
   "source": [
    "#### Load trained model and evaluate with confusion matrix metrics"
   ]
  },
  {
   "cell_type": "code",
   "execution_count": null,
   "metadata": {},
   "outputs": [],
   "source": [
    "model2.load_weights('weights>40epochs/weights-improvement-47-0.88.hdf5')\n",
    "from tensorflow.keras.optimizers import SGD\n",
    "sgd = SGD(lr=0.001)\n",
    "\n",
    "model2.compile(optimizer=sgd, loss='binary_crossentropy', metrics=['accuracy'])\n"
   ]
  },
  {
   "cell_type": "code",
   "execution_count": null,
   "metadata": {},
   "outputs": [],
   "source": [
    "# Evaluate the model on the movies fight data using `evaluate`\n",
    "print('\\n# Evaluate on movies fight data')\n",
    "results = model2.evaluate(array_x_moviesfight, array_y_moviesfight, batch_size=16)\n",
    "print('test loss, test acc:', results)"
   ]
  },
  {
   "cell_type": "code",
   "execution_count": null,
   "metadata": {},
   "outputs": [],
   "source": [
    "from sklearn.metrics import roc_curve\n",
    "y_pred_keras = model2.predict(array_x_moviesfight).ravel()\n",
    "fpr_keras, tpr_keras, thresholds_keras = roc_curve(array_y_moviesfight, y_pred_keras)"
   ]
  },
  {
   "cell_type": "code",
   "execution_count": null,
   "metadata": {},
   "outputs": [],
   "source": [
    "def plot_roc_curve(fpr,tpr): \n",
    "    plt.plot(fpr,tpr) \n",
    "    plt.axis([0,1,0,1]) \n",
    "    plt.xlabel('False Positive Rate') \n",
    "    plt.ylabel('True Positive Rate') \n",
    "    plt.show()    \n",
    "  \n",
    "plot_roc_curve(fpr_keras,tpr_keras) "
   ]
  },
  {
   "cell_type": "code",
   "execution_count": null,
   "metadata": {},
   "outputs": [],
   "source": [
    "from sklearn.metrics import roc_curve,roc_auc_score\n",
    "auc_score=roc_auc_score(array_y_moviesfight, y_pred_keras)  \n",
    "auc_score"
   ]
  },
  {
   "cell_type": "code",
   "execution_count": null,
   "metadata": {},
   "outputs": [],
   "source": [
    "from sklearn.metrics import precision_score , recall_score\n",
    " \n",
    "y_val_pred=model2.predict_classes(array_x_moviesfight)\n",
    " \n",
    "print(precision_score(array_y_moviesfight,y_val_pred,average=None))"
   ]
  },
  {
   "cell_type": "code",
   "execution_count": null,
   "metadata": {},
   "outputs": [],
   "source": [
    "print(recall_score(array_y_moviesfight,y_val_pred,average=None))"
   ]
  },
  {
   "cell_type": "code",
   "execution_count": null,
   "metadata": {},
   "outputs": [],
   "source": [
    "from sklearn.metrics import classification_report\n",
    " \n",
    "print(classification_report(array_y_moviesfight, y_val_pred))"
   ]
  },
  {
   "cell_type": "markdown",
   "metadata": {},
   "source": [
    "## Test on crowding fight data"
   ]
  },
  {
   "cell_type": "markdown",
   "metadata": {},
   "source": [
    "#### Dataset is too big to load in one time, so it is loaded in parts and merged together."
   ]
  },
  {
   "cell_type": "code",
   "execution_count": null,
   "metadata": {},
   "outputs": [],
   "source": [
    "import boto3\n",
    "import pandas as pd\n",
    "\n",
    "bucket = \"thesis-data-augmentation-data\"\n",
    "file = \"leeftijd_top_10.xlsx\"\n",
    "file_X_CrowdFights_Part1 = \"X_data_CrowdFights_Part1.npy\"\n",
    "file_X_CrowdFights_Part2 = \"X_data_CrowdFights_Part2.npy\"\n",
    "file_X_CrowdFights_Part3 = \"X_data_CrowdFights_Part3.npy\"\n",
    "file_X_CrowdFights_Part4 = \"X_data_CrowdFights_Part4.npy\"\n",
    "\n",
    "file_Y_CrowdFights_Part1 = \"Y_data_CrowdFights_Part1.npy\"\n",
    "file_Y_CrowdFights_Part2 = \"Y_data_CrowdFights_Part2.npy\"\n",
    "file_Y_CrowdFights_Part3 = \"Y_data_CrowdFights_Part3.npy\"\n",
    "file_Y_CrowdFights_Part4 = \"Y_data_CrowdFights_Part4.npy\""
   ]
  },
  {
   "cell_type": "code",
   "execution_count": null,
   "metadata": {},
   "outputs": [],
   "source": [
    "from io import BytesIO\n",
    "import boto3\n",
    "import numpy as np\n",
    "\n",
    "client = boto3.client('s3') #low-level functional API\n",
    "\n",
    "obj_x_CrowdFights_Part1 = client.get_object(Bucket= bucket, Key=file_X_CrowdFights_Part1)\n",
    "obj_x_CrowdFights_Part2 = client.get_object(Bucket= bucket, Key=file_X_CrowdFights_Part2)\n",
    "obj_x_CrowdFights_Part3 = client.get_object(Bucket= bucket, Key=file_X_CrowdFights_Part3)\n",
    "obj_x_CrowdFights_Part4 = client.get_object(Bucket= bucket, Key=file_X_CrowdFights_Part4)\n",
    "\n",
    "obj_y_CrowdFights_Part1 = client.get_object(Bucket= bucket, Key=file_Y_CrowdFights_Part1)\n",
    "obj_y_CrowdFights_Part2 = client.get_object(Bucket= bucket, Key=file_Y_CrowdFights_Part2)\n",
    "obj_y_CrowdFights_Part3 = client.get_object(Bucket= bucket, Key=file_Y_CrowdFights_Part3)\n",
    "obj_y_CrowdFights_Part4 = client.get_object(Bucket= bucket, Key=file_Y_CrowdFights_Part4)\n",
    "\n",
    "array_x_CrowdFights_Part1 = np.load(BytesIO(obj_x_CrowdFights_Part1['Body'].read()))\n",
    "array_x_CrowdFights_Part2 = np.load(BytesIO(obj_x_CrowdFights_Part2['Body'].read()))\n",
    "array_x_CrowdFights_Part3 = np.load(BytesIO(obj_x_CrowdFights_Part3['Body'].read()))\n",
    "array_x_CrowdFights_Part4 = np.load(BytesIO(obj_x_CrowdFights_Part4['Body'].read()))\n",
    "\n",
    "array_y_CrowdFights_Part1 = np.load(BytesIO(obj_y_CrowdFights_Part1['Body'].read()))\n",
    "array_y_CrowdFights_Part2 = np.load(BytesIO(obj_y_CrowdFights_Part2['Body'].read()))\n",
    "array_y_CrowdFights_Part3 = np.load(BytesIO(obj_y_CrowdFights_Part3['Body'].read()))\n",
    "array_y_CrowdFights_Part4 = np.load(BytesIO(obj_y_CrowdFights_Part4['Body'].read()))"
   ]
  },
  {
   "cell_type": "code",
   "execution_count": null,
   "metadata": {},
   "outputs": [],
   "source": [
    "import numpy as np\n",
    "xdata_concatenated_arrayCrowdFights = np.concatenate((array_x_CrowdFights_Part1,array_x_CrowdFights_Part2,array_x_CrowdFights_Part3,array_x_CrowdFights_Part4))\n",
    "print('Xdata CrowdFights concatenated succesfully')"
   ]
  },
  {
   "cell_type": "code",
   "execution_count": null,
   "metadata": {},
   "outputs": [],
   "source": [
    "import numpy as np\n",
    "ydata_concatenated_arrayCrowdFights = np.concatenate((array_y_CrowdFights_Part1,array_y_CrowdFights_Part2,array_y_CrowdFights_Part3,array_y_CrowdFights_Part4))\n",
    "print('Ydata CrowdFights concatenated succesfully')"
   ]
  },
  {
   "cell_type": "markdown",
   "metadata": {},
   "source": [
    "#### Load trained model and evaluate with confusion matrix metrics"
   ]
  },
  {
   "cell_type": "code",
   "execution_count": 4,
   "metadata": {},
   "outputs": [
    {
     "name": "stdout",
     "output_type": "stream",
     "text": [
      "WARNING:tensorflow:From /home/ec2-user/anaconda3/envs/tensorflow_p36/lib/python3.6/site-packages/tensorflow_core/python/ops/nn_impl.py:183: where (from tensorflow.python.ops.array_ops) is deprecated and will be removed in a future version.\n",
      "Instructions for updating:\n",
      "Use tf.where in 2.0, which has the same broadcast rule as np.where\n"
     ]
    }
   ],
   "source": [
    "model2.load_weights('weights>40epochs/weights-improvement-47-0.88.hdf5')\n",
    "from tensorflow.keras.optimizers import SGD\n",
    "sgd = SGD(lr=0.001)\n",
    "\n",
    "model2.compile(optimizer=sgd, loss='binary_crossentropy', metrics=['accuracy'])\n"
   ]
  },
  {
   "cell_type": "code",
   "execution_count": null,
   "metadata": {},
   "outputs": [],
   "source": [
    "# Evaluate the model on the crowd fight data using `evaluate`\n",
    "print('\\n# Evaluate on crowd fight data')\n",
    "results = model2.evaluate(xdata_concatenated_arrayCrowdFights, ydata_concatenated_arrayCrowdFights, batch_size=16)\n",
    "print('test loss, test acc:', results)"
   ]
  },
  {
   "cell_type": "code",
   "execution_count": null,
   "metadata": {},
   "outputs": [],
   "source": [
    "from sklearn.metrics import roc_curve\n",
    "y_pred_keras = model2.predict(xdata_concatenated_arrayCrowdFights).ravel()\n",
    "fpr_keras, tpr_keras, thresholds_keras = roc_curve(ydata_concatenated_arrayCrowdFights, y_pred_keras)"
   ]
  },
  {
   "cell_type": "code",
   "execution_count": null,
   "metadata": {},
   "outputs": [],
   "source": [
    "def plot_roc_curve(fpr,tpr): \n",
    "    plt.plot(fpr,tpr) \n",
    "    plt.axis([0,1,0,1]) \n",
    "    plt.xlabel('False Positive Rate') \n",
    "    plt.ylabel('True Positive Rate') \n",
    "    plt.show()    \n",
    "  \n",
    "plot_roc_curve(fpr_keras,tpr_keras) "
   ]
  },
  {
   "cell_type": "code",
   "execution_count": null,
   "metadata": {},
   "outputs": [],
   "source": [
    "from sklearn.metrics import roc_curve,roc_auc_score\n",
    "auc_score=roc_auc_score(ydata_concatenated_arrayCrowdFights, y_pred_keras) \n",
    "auc_score"
   ]
  },
  {
   "cell_type": "code",
   "execution_count": null,
   "metadata": {},
   "outputs": [],
   "source": [
    "from sklearn.metrics import precision_score , recall_score\n",
    " \n",
    "y_val_pred=model2.predict_classes(xdata_concatenated_arrayCrowdFights)\n",
    " \n",
    "print(precision_score(ydata_concatenated_arrayCrowdFights,y_val_pred,average=None))"
   ]
  },
  {
   "cell_type": "code",
   "execution_count": null,
   "metadata": {},
   "outputs": [],
   "source": [
    "print(recall_score(ydata_concatenated_arrayCrowdFights,y_val_pred,average=None))"
   ]
  },
  {
   "cell_type": "code",
   "execution_count": null,
   "metadata": {},
   "outputs": [],
   "source": [
    "from sklearn.metrics import classification_report\n",
    " \n",
    "print(classification_report(ydata_concatenated_arrayCrowdFights, y_val_pred))"
   ]
  },
  {
   "cell_type": "code",
   "execution_count": null,
   "metadata": {},
   "outputs": [],
   "source": []
  },
  {
   "cell_type": "markdown",
   "metadata": {},
   "source": [
    "## Test on hockey fight data"
   ]
  },
  {
   "cell_type": "markdown",
   "metadata": {},
   "source": [
    "#### Dataset is too big to load in one time, so it is loaded in parts and merged together."
   ]
  },
  {
   "cell_type": "code",
   "execution_count": 4,
   "metadata": {},
   "outputs": [],
   "source": [
    "import boto3\n",
    "import pandas as pd\n",
    "\n",
    "bucket = \"thesis-data-augmentation-data\"\n",
    "file = \"leeftijd_top_10.xlsx\"\n",
    "file_X_HockeyFights_Part1 = \"X_data_HockeyFights_Part1.npy\"\n",
    "file_X_HockeyFights_Part2 = \"X_data_HockeyFights_Part2.npy\"\n",
    "file_X_HockeyFights_Part3 = \"X_data_HockeyFights_Part3.npy\"\n",
    "file_X_HockeyFights_Part4 = \"X_data_HockeyFights_Part4.npy\"\n",
    "file_X_HockeyFights_Part5 = \"X_data_HockeyFights_Part5.npy\"\n",
    "file_X_HockeyFights_Part6 = \"X_data_HockeyFights_Part6.npy\"\n",
    "file_X_HockeyFights_Part7 = \"X_data_HockeyFights_Part7.npy\"\n",
    "\n",
    "\n",
    "file_Y_HockeyFights_Part1 = \"Y_data_HockeyFights_Part1.npy\"\n",
    "file_Y_HockeyFights_Part2 = \"Y_data_HockeyFights_Part2.npy\"\n",
    "file_Y_HockeyFights_Part3 = \"Y_data_HockeyFights_Part3.npy\"\n",
    "file_Y_HockeyFights_Part4 = \"Y_data_HockeyFights_Part4.npy\"\n",
    "file_Y_HockeyFights_Part5 = \"Y_data_HockeyFights_Part5.npy\"\n",
    "file_Y_HockeyFights_Part6 = \"Y_data_HockeyFights_Part6.npy\"\n",
    "file_Y_HockeyFights_Part7 = \"Y_data_HockeyFights_Part7.npy\""
   ]
  },
  {
   "cell_type": "code",
   "execution_count": 5,
   "metadata": {},
   "outputs": [],
   "source": [
    "from io import BytesIO\n",
    "import boto3\n",
    "import numpy as np\n",
    "\n",
    "client = boto3.client('s3') #low-level functional API\n",
    "\n",
    "obj_x_HockeyFights_Part1 = client.get_object(Bucket= bucket, Key=file_X_HockeyFights_Part1)\n",
    "obj_x_HockeyFights_Part2 = client.get_object(Bucket= bucket, Key=file_X_HockeyFights_Part2)\n",
    "obj_x_HockeyFights_Part3 = client.get_object(Bucket= bucket, Key=file_X_HockeyFights_Part3)\n",
    "obj_x_HockeyFights_Part4 = client.get_object(Bucket= bucket, Key=file_X_HockeyFights_Part4)\n",
    "obj_x_HockeyFights_Part5 = client.get_object(Bucket= bucket, Key=file_X_HockeyFights_Part5)\n",
    "obj_x_HockeyFights_Part6 = client.get_object(Bucket= bucket, Key=file_X_HockeyFights_Part6)\n",
    "obj_x_HockeyFights_Part7 = client.get_object(Bucket= bucket, Key=file_X_HockeyFights_Part7)\n",
    "\n",
    "obj_y_HockeyFights_Part1 = client.get_object(Bucket= bucket, Key=file_Y_HockeyFights_Part1)\n",
    "obj_y_HockeyFights_Part2 = client.get_object(Bucket= bucket, Key=file_Y_HockeyFights_Part2)\n",
    "obj_y_HockeyFights_Part3 = client.get_object(Bucket= bucket, Key=file_Y_HockeyFights_Part3)\n",
    "obj_y_HockeyFights_Part4 = client.get_object(Bucket= bucket, Key=file_Y_HockeyFights_Part4)\n",
    "obj_y_HockeyFights_Part5 = client.get_object(Bucket= bucket, Key=file_Y_HockeyFights_Part5)\n",
    "obj_y_HockeyFights_Part6 = client.get_object(Bucket= bucket, Key=file_Y_HockeyFights_Part6)\n",
    "obj_y_HockeyFights_Part7 = client.get_object(Bucket= bucket, Key=file_Y_HockeyFights_Part7)\n",
    "\n",
    "array_x_HockeyFights_Part1 = np.load(BytesIO(obj_x_HockeyFights_Part1['Body'].read()))\n",
    "array_x_HockeyFights_Part2 = np.load(BytesIO(obj_x_HockeyFights_Part2['Body'].read()))\n",
    "array_x_HockeyFights_Part3 = np.load(BytesIO(obj_x_HockeyFights_Part3['Body'].read()))\n",
    "array_x_HockeyFights_Part4 = np.load(BytesIO(obj_x_HockeyFights_Part4['Body'].read()))\n",
    "array_x_HockeyFights_Part5 = np.load(BytesIO(obj_x_HockeyFights_Part5['Body'].read()))\n",
    "array_x_HockeyFights_Part6 = np.load(BytesIO(obj_x_HockeyFights_Part6['Body'].read()))\n",
    "array_x_HockeyFights_Part7 = np.load(BytesIO(obj_x_HockeyFights_Part7['Body'].read()))\n",
    "\n",
    "array_y_HockeyFights_Part1 = np.load(BytesIO(obj_y_HockeyFights_Part1['Body'].read()))\n",
    "array_y_HockeyFights_Part2 = np.load(BytesIO(obj_y_HockeyFights_Part2['Body'].read()))\n",
    "array_y_HockeyFights_Part3 = np.load(BytesIO(obj_y_HockeyFights_Part3['Body'].read()))\n",
    "array_y_HockeyFights_Part4 = np.load(BytesIO(obj_y_HockeyFights_Part4['Body'].read()))\n",
    "array_y_HockeyFights_Part5 = np.load(BytesIO(obj_y_HockeyFights_Part5['Body'].read()))\n",
    "array_y_HockeyFights_Part6 = np.load(BytesIO(obj_y_HockeyFights_Part6['Body'].read()))\n",
    "array_y_HockeyFights_Part7 = np.load(BytesIO(obj_y_HockeyFights_Part7['Body'].read()))"
   ]
  },
  {
   "cell_type": "code",
   "execution_count": 6,
   "metadata": {},
   "outputs": [
    {
     "name": "stdout",
     "output_type": "stream",
     "text": [
      "Xdata HockeyFights concatenated succesfully\n"
     ]
    }
   ],
   "source": [
    "import numpy as np\n",
    "xdata_concatenated_arrayHockeyFights = np.concatenate((array_x_HockeyFights_Part1,array_x_HockeyFights_Part2,array_x_HockeyFights_Part3,array_x_HockeyFights_Part4,array_x_HockeyFights_Part5,array_x_HockeyFights_Part6,array_x_HockeyFights_Part7))\n",
    "print('Xdata HockeyFights concatenated succesfully')"
   ]
  },
  {
   "cell_type": "code",
   "execution_count": 7,
   "metadata": {},
   "outputs": [
    {
     "name": "stdout",
     "output_type": "stream",
     "text": [
      "Ydata HockeyFights concatenated succesfully\n"
     ]
    }
   ],
   "source": [
    "import numpy as np\n",
    "ydata_concatenated_arrayHockeyFights = np.concatenate((array_y_HockeyFights_Part1,array_y_HockeyFights_Part2,array_y_HockeyFights_Part3,array_y_HockeyFights_Part4,array_y_HockeyFights_Part5,array_y_HockeyFights_Part6,array_y_HockeyFights_Part7))\n",
    "print('Ydata HockeyFights concatenated succesfully')"
   ]
  },
  {
   "cell_type": "markdown",
   "metadata": {},
   "source": [
    "#### Load trained model and evaluate with confusion matrix metrics"
   ]
  },
  {
   "cell_type": "code",
   "execution_count": 8,
   "metadata": {},
   "outputs": [
    {
     "name": "stdout",
     "output_type": "stream",
     "text": [
      "WARNING:tensorflow:From /home/ec2-user/anaconda3/envs/tensorflow_p36/lib/python3.6/site-packages/tensorflow_core/python/ops/nn_impl.py:183: where (from tensorflow.python.ops.array_ops) is deprecated and will be removed in a future version.\n",
      "Instructions for updating:\n",
      "Use tf.where in 2.0, which has the same broadcast rule as np.where\n"
     ]
    }
   ],
   "source": [
    "model2.load_weights('weights>40epochs/weights-improvement-47-0.88.hdf5')\n",
    "from tensorflow.keras.optimizers import SGD\n",
    "sgd = SGD(lr=0.001)\n",
    "\n",
    "model2.compile(optimizer=sgd, loss='binary_crossentropy', metrics=['accuracy'])\n",
    "\n"
   ]
  },
  {
   "cell_type": "code",
   "execution_count": 9,
   "metadata": {},
   "outputs": [
    {
     "name": "stdout",
     "output_type": "stream",
     "text": [
      "\n",
      "# Evaluate on hockey fights data\n",
      "5018/5018 [==============================] - 331s 66ms/sample - loss: 1.4945 - acc: 0.7176\n",
      "test loss, test acc: [1.4945166171333524, 0.71761656]\n"
     ]
    }
   ],
   "source": [
    "# Evaluate the model on the hockey fight data using `evaluate`\n",
    "print('\\n# Evaluate on hockey fights data')\n",
    "with tf.device('/gpu:0'):\n",
    "    results = model2.evaluate(xdata_concatenated_arrayHockeyFights, ydata_concatenated_arrayHockeyFights, batch_size=16)\n",
    "print('test loss, test acc:', results)"
   ]
  },
  {
   "cell_type": "code",
   "execution_count": 10,
   "metadata": {},
   "outputs": [],
   "source": [
    "from sklearn.metrics import roc_curve\n",
    "y_pred_keras = model2.predict(xdata_concatenated_arrayHockeyFights).ravel()\n",
    "fpr_keras, tpr_keras, thresholds_keras = roc_curve(ydata_concatenated_arrayHockeyFights, y_pred_keras)"
   ]
  },
  {
   "cell_type": "code",
   "execution_count": 11,
   "metadata": {},
   "outputs": [
    {
     "data": {
      "image/png": "[encoded data removed]",
      "text/plain": [
       "<Figure size 432x288 with 1 Axes>"
      ]
     },
     "metadata": {},
     "output_type": "display_data"
    }
   ],
   "source": [
    "def plot_roc_curve(fpr,tpr): \n",
    "    plt.plot(fpr,tpr) \n",
    "    plt.axis([0,1,0,1]) \n",
    "    plt.xlabel('False Positive Rate') \n",
    "    plt.ylabel('True Positive Rate') \n",
    "    plt.show()    \n",
    "  \n",
    "plot_roc_curve(fpr_keras,tpr_keras) "
   ]
  },
  {
   "cell_type": "code",
   "execution_count": 12,
   "metadata": {},
   "outputs": [
    {
     "data": {
      "text/plain": [
       "0.8415015885623511"
      ]
     },
     "execution_count": 12,
     "metadata": {},
     "output_type": "execute_result"
    }
   ],
   "source": [
    "from sklearn.metrics import roc_curve,roc_auc_score\n",
    "auc_score=roc_auc_score(ydata_concatenated_arrayHockeyFights, y_pred_keras) \n",
    "auc_score"
   ]
  },
  {
   "cell_type": "code",
   "execution_count": 13,
   "metadata": {},
   "outputs": [
    {
     "name": "stdout",
     "output_type": "stream",
     "text": [
      "[0.65197867 0.87835052]\n"
     ]
    }
   ],
   "source": [
    "from sklearn.metrics import precision_score , recall_score\n",
    " \n",
    "y_val_pred=model2.predict_classes(xdata_concatenated_arrayHockeyFights)\n",
    " \n",
    "print(precision_score(ydata_concatenated_arrayHockeyFights,y_val_pred,average=None))"
   ]
  },
  {
   "cell_type": "code",
   "execution_count": 14,
   "metadata": {},
   "outputs": [
    {
     "name": "stdout",
     "output_type": "stream",
     "text": [
      "[0.9292     0.50754567]\n"
     ]
    }
   ],
   "source": [
    "print(recall_score(ydata_concatenated_arrayHockeyFights,y_val_pred,average=None))"
   ]
  },
  {
   "cell_type": "code",
   "execution_count": 15,
   "metadata": {},
   "outputs": [
    {
     "name": "stdout",
     "output_type": "stream",
     "text": [
      "              precision    recall  f1-score   support\n",
      "\n",
      "           0       0.65      0.93      0.77      2500\n",
      "           1       0.88      0.51      0.64      2518\n",
      "\n",
      "    accuracy                           0.72      5018\n",
      "   macro avg       0.77      0.72      0.70      5018\n",
      "weighted avg       0.77      0.72      0.70      5018\n",
      "\n"
     ]
    }
   ],
   "source": [
    "from sklearn.metrics import classification_report\n",
    " \n",
    "print(classification_report(ydata_concatenated_arrayHockeyFights, y_val_pred))"
   ]
  },
  {
   "cell_type": "code",
   "execution_count": null,
   "metadata": {},
   "outputs": [],
   "source": []
  }
 ],
 "metadata": {
  "kernelspec": {
   "display_name": "Python 3",
   "language": "python",
   "name": "python3"
  },
  "language_info": {
   "codemirror_mode": {
    "name": "ipython",
    "version": 3
   },
   "file_extension": ".py",
   "mimetype": "text/x-python",
   "name": "python",
   "nbconvert_exporter": "python",
   "pygments_lexer": "ipython3",
   "version": "3.6.9"
  }
 },
 "nbformat": 4,
 "nbformat_minor": 2
}
