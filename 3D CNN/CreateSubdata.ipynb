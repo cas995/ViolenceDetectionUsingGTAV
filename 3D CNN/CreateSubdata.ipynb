{
 "cells": [
  {
   "cell_type": "markdown",
   "metadata": {},
   "source": [
    "## Create subdata from CrowdFights data"
   ]
  },
  {
   "cell_type": "markdown",
   "metadata": {},
   "source": [
    "#### The numpy dataset files are too large to be loaded in the AWS server at one time. The datasets are loaded in parts using this code. Using this code, the datasets are split into parts, which can be loaded by the server.\n",
    "\n",
    "#### This only applies to the following datasets: (1) Crowd fight dataset and (2) hockey fight dataset.\n"
   ]
  },
  {
   "cell_type": "code",
   "execution_count": null,
   "metadata": {},
   "outputs": [],
   "source": [
    "import numpy as np\n",
    "\n",
    "X_data_CrowdFights = np.load('/Volumes/LogisP/Videos/Violent_Crowd/ViolentVideos/Numpy_Files/X_data_CrowdFights.npy')\n"
   ]
  },
  {
   "cell_type": "code",
   "execution_count": null,
   "metadata": {},
   "outputs": [],
   "source": [
    "print(len(X_data_CrowdFights))\n",
    "X_data_CrowdFights_Part1 = X_data_CrowdFights[:789]\n",
    "X_data_CrowdFights_Part2 = X_data_CrowdFights[789:1579]\n",
    "X_data_CrowdFights_Part3 = X_data_CrowdFights[1579:2368]\n",
    "X_data_CrowdFights_Part4 = X_data_CrowdFights[2368:]\n",
    "print(\"successfully created subdata from X_data_CrowdFights\")"
   ]
  },
  {
   "cell_type": "code",
   "execution_count": null,
   "metadata": {},
   "outputs": [],
   "source": [
    "np.save('/Volumes/LogisP/Videos/Violent_Crowd/ViolentVideos/Numpy_Files/X_data_CrowdFights_Part1', X_data_CrowdFights_Part1)\n",
    "np.save('/Volumes/LogisP/Videos/Violent_Crowd/ViolentVideos/Numpy_Files/X_data_CrowdFights_Part2', X_data_CrowdFights_Part2)\n",
    "np.save('/Volumes/LogisP/Videos/Violent_Crowd/ViolentVideos/Numpy_Files/X_data_CrowdFights_Part3', X_data_CrowdFights_Part3)\n",
    "np.save('/Volumes/LogisP/Videos/Violent_Crowd/ViolentVideos/Numpy_Files/X_data_CrowdFights_Part4', X_data_CrowdFights_Part4)\n",
    "print(\"successfully saved subdata from X_data_CrowdFights\")\n"
   ]
  },
  {
   "cell_type": "code",
   "execution_count": null,
   "metadata": {},
   "outputs": [],
   "source": [
    "import numpy as np\n",
    "\n",
    "Y_data_CrowdFights = np.load('/Volumes/LogisP/Videos/Violent_Crowd/ViolentVideos/Numpy_Files/Y_data_CrowdFights.npy')\n"
   ]
  },
  {
   "cell_type": "code",
   "execution_count": null,
   "metadata": {},
   "outputs": [],
   "source": [
    "print(len(Y_data_CrowdFights))\n",
    "Y_data_CrowdFights_Part1 = Y_data_CrowdFights[:789]\n",
    "Y_data_CrowdFights_Part2 = Y_data_CrowdFights[789:1579]\n",
    "Y_data_CrowdFights_Part3 = Y_data_CrowdFights[1579:2368]\n",
    "Y_data_CrowdFights_Part4 = Y_data_CrowdFights[2368:]\n",
    "print(\"successfully created subdata from Y_data_CrowdFights\")"
   ]
  },
  {
   "cell_type": "code",
   "execution_count": null,
   "metadata": {},
   "outputs": [],
   "source": [
    "np.save('/Volumes/LogisP/Videos/Violent_Crowd/ViolentVideos/Numpy_Files/Y_data_CrowdFights_Part1', Y_data_CrowdFights_Part1)\n",
    "np.save('/Volumes/LogisP/Videos/Violent_Crowd/ViolentVideos/Numpy_Files/Y_data_CrowdFights_Part2', Y_data_CrowdFights_Part2)\n",
    "np.save('/Volumes/LogisP/Videos/Violent_Crowd/ViolentVideos/Numpy_Files/Y_data_CrowdFights_Part3', Y_data_CrowdFights_Part3)\n",
    "np.save('/Volumes/LogisP/Videos/Violent_Crowd/ViolentVideos/Numpy_Files/Y_data_CrowdFights_Part4', Y_data_CrowdFights_Part4)\n",
    "print(\"successfully saved subdata from Y_data_CrowdFights\")\n"
   ]
  },
  {
   "cell_type": "markdown",
   "metadata": {},
   "source": [
    "## Create subdata from HockeyFights data"
   ]
  },
  {
   "cell_type": "code",
   "execution_count": 1,
   "metadata": {},
   "outputs": [],
   "source": [
    "import numpy as np\n",
    "\n",
    "X_data_HockeyFights = np.load('/Volumes/LogisP/Videos/Hockey_Fights/Numpy_Files/X_data_HockeyFights.npy')\n"
   ]
  },
  {
   "cell_type": "code",
   "execution_count": 4,
   "metadata": {},
   "outputs": [
    {
     "name": "stdout",
     "output_type": "stream",
     "text": [
      "5018\n",
      "successfully saved subdata from X_data_HockeyFights\n"
     ]
    }
   ],
   "source": [
    "print(len(X_data_HockeyFights))\n",
    "\n",
    "np.save('/Volumes/LogisP/Videos/Hockey_Fights/Numpy_Files/X_data_HockeyFights_Part1', X_data_HockeyFights[:789])\n",
    "np.save('/Volumes/LogisP/Videos/Hockey_Fights/Numpy_Files/X_data_HockeyFights_Part2', X_data_HockeyFights[789:1579])\n",
    "np.save('/Volumes/LogisP/Videos/Hockey_Fights/Numpy_Files/X_data_HockeyFights_Part3', X_data_HockeyFights[1579:2368])\n",
    "np.save('/Volumes/LogisP/Videos/Hockey_Fights/Numpy_Files/X_data_HockeyFights_Part4', X_data_HockeyFights[2368:3157])\n",
    "np.save('/Volumes/LogisP/Videos/Hockey_Fights/Numpy_Files/X_data_HockeyFights_Part5', X_data_HockeyFights[3157:3946])\n",
    "np.save('/Volumes/LogisP/Videos/Hockey_Fights/Numpy_Files/X_data_HockeyFights_Part6', X_data_HockeyFights[3946:4735])\n",
    "np.save('/Volumes/LogisP/Videos/Hockey_Fights/Numpy_Files/X_data_HockeyFights_Part7', X_data_HockeyFights[4735:])\n",
    "\n",
    "print(\"successfully saved subdata from X_data_HockeyFights\")"
   ]
  },
  {
   "cell_type": "code",
   "execution_count": 5,
   "metadata": {},
   "outputs": [],
   "source": [
    "import numpy as np\n",
    "\n",
    "Y_data_HockeyFights = np.load('/Volumes/LogisP/Videos/Hockey_Fights/Numpy_Files/Y_data_HockeyFights.npy')\n"
   ]
  },
  {
   "cell_type": "code",
   "execution_count": 6,
   "metadata": {},
   "outputs": [
    {
     "name": "stdout",
     "output_type": "stream",
     "text": [
      "5018\n",
      "successfully saved subdata from Y_data_HockeyFights\n"
     ]
    }
   ],
   "source": [
    "print(len(Y_data_HockeyFights))\n",
    "\n",
    "np.save('/Volumes/LogisP/Videos/Hockey_Fights/Numpy_Files/Y_data_HockeyFights_Part1', Y_data_HockeyFights[:789])\n",
    "np.save('/Volumes/LogisP/Videos/Hockey_Fights/Numpy_Files/Y_data_HockeyFights_Part2', Y_data_HockeyFights[789:1579])\n",
    "np.save('/Volumes/LogisP/Videos/Hockey_Fights/Numpy_Files/Y_data_HockeyFights_Part3', Y_data_HockeyFights[1579:2368])\n",
    "np.save('/Volumes/LogisP/Videos/Hockey_Fights/Numpy_Files/Y_data_HockeyFights_Part4', Y_data_HockeyFights[2368:3157])\n",
    "np.save('/Volumes/LogisP/Videos/Hockey_Fights/Numpy_Files/Y_data_HockeyFights_Part5', Y_data_HockeyFights[3157:3946])\n",
    "np.save('/Volumes/LogisP/Videos/Hockey_Fights/Numpy_Files/Y_data_HockeyFights_Part6', Y_data_HockeyFights[3946:4735])\n",
    "np.save('/Volumes/LogisP/Videos/Hockey_Fights/Numpy_Files/Y_data_HockeyFights_Part7', Y_data_HockeyFights[4735:])\n",
    "\n",
    "print(\"successfully saved subdata from Y_data_HockeyFights\")"
   ]
  },
  {
   "cell_type": "code",
   "execution_count": null,
   "metadata": {},
   "outputs": [],
   "source": []
  }
 ],
 "metadata": {
  "kernelspec": {
   "display_name": "Python 3",
   "language": "python",
   "name": "python3"
  },
  "language_info": {
   "codemirror_mode": {
    "name": "ipython",
    "version": 3
   },
   "file_extension": ".py",
   "mimetype": "text/x-python",
   "name": "python",
   "nbconvert_exporter": "python",
   "pygments_lexer": "ipython3",
   "version": "3.6.9"
  }
 },
 "nbformat": 4,
 "nbformat_minor": 4
}
