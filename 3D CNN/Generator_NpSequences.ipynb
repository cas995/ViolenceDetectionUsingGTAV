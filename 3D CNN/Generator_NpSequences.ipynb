{
 "cells": [
  {
   "cell_type": "markdown",
   "metadata": {
    "colab_type": "text",
    "id": "y7isySccca5E"
   },
   "source": [
    "# Import Keras and Tensorflow"
   ]
  },
  {
   "cell_type": "code",
   "execution_count": 0,
   "metadata": {
    "colab": {
     "base_uri": "https://localhost:8080/",
     "height": 68
    },
    "colab_type": "code",
    "executionInfo": {
     "elapsed": 2559,
     "status": "ok",
     "timestamp": 1586506789993,
     "user": {
      "displayName": "Stan Ruessink",
      "photoUrl": "",
      "userId": "13009073801950091049"
     },
     "user_tz": -120
    },
    "id": "XqJ8WUNZo9qS",
    "outputId": "dc69f4fa-b2c7-49d4-f189-d84b95e51668"
   },
   "outputs": [
    {
     "name": "stderr",
     "output_type": "stream",
     "text": [
      "Using TensorFlow backend.\n"
     ]
    },
    {
     "name": "stdout",
     "output_type": "stream",
     "text": [
      "Using Keras 2.2.5\n",
      "TensorFlow version: 2.2.0-rc2\n"
     ]
    }
   ],
   "source": [
    "import keras\n",
    "print(\"Using Keras\",keras.__version__)\n",
    "import tensorflow as tf\n",
    "print (\"TensorFlow version: \" + tf.__version__)"
   ]
  },
  {
   "cell_type": "markdown",
   "metadata": {
    "colab_type": "text",
    "id": "mTLOvnahdk-J"
   },
   "source": [
    "# Read text-file with train/test sequences"
   ]
  },
  {
   "cell_type": "code",
   "execution_count": 0,
   "metadata": {
    "colab": {},
    "colab_type": "code",
    "id": "vOeDf-N6nDth"
   },
   "outputs": [],
   "source": [
    "#If you want to read a part of the data, edit the number of lines to read and uncomment 'videos_list = [next(f) for x in range(N)]'\n",
    "\n",
    "#read train data\n",
    "N = 100 #number of lines to read\n",
    "path = \"/content/gdrive/My Drive/Thesis/Code/Train.txt\"\n",
    "with open(path, 'r') as f:\n",
    "    #read N lines with train sequences \n",
    "    #videos_list = [next(f) for x in range(N)]\n",
    "    \n",
    "    #read all lines with train sequences\n",
    "    videos_list = f.readlines()\n",
    "\n",
    "#read test data    \n",
    "N = 20 #number of lines to read\n",
    "path = \"/content/gdrive/My Drive/Thesis/Code/Test.txt\"\n",
    "with open(path, 'r') as f:\n",
    "    #read N lines with test sequences \n",
    "    #videos_list_test = [next(f) for x in range(N)]\n",
    "\n",
    "    #read all lines with test sequences\n",
    "    videos_list_test = f.readlines()"
   ]
  },
  {
   "cell_type": "markdown",
   "metadata": {
    "colab_type": "text",
    "id": "gpboTGTv_4Ax"
   },
   "source": [
    "# Generate sequences of the images & save as numpy file"
   ]
  },
  {
   "cell_type": "code",
   "execution_count": 0,
   "metadata": {
    "colab": {},
    "colab_type": "code",
    "id": "w-58_8oadBRA"
   },
   "outputs": [],
   "source": [
    "import cv2\n",
    "\n",
    "#function to generate one batch from input sequence\n",
    "def generate_video_batch(batch_filepath, batch_framestart):\n",
    "  \"\"\"\n",
    "    Parameters:\n",
    "        batch_filepath: this is the path to the frame from one batch\n",
    "        batch_framestart: this is the frame start number of the batch in a list of frames from input video\n",
    "    Output:\n",
    "         Return one batch from input sequence in a numpy format\n",
    "  \"\"\"\n",
    "  batch_images = []\n",
    "  for frame in range(batch_framestart, batch_framestart + 16):\n",
    "    read_img = cv2.imread((batch_filepath\n",
    "                           + \"/\"\n",
    "                           + \"{:0>6d}\".format(frame)\n",
    "                           + \".jpg\")) # path of image\n",
    "    image = cv2.cvtColor(read_img, cv2.COLOR_BGR2RGB)\n",
    "    \n",
    "    image = cv2.resize(read_img, (112, 112)) #, interpolation=cv2.INTER_AREA)\n",
    "    from google.colab.patches import cv2_imshow\n",
    "    #cv2_imshow(image)\n",
    "    #print(cv2.imshow('image',image))\n",
    "\n",
    "    #print(\"De shape is: \", image.shape)\n",
    "    batch_images.append(image / 255) \n",
    "  return batch_images\n",
    "\n",
    "#function to generate batches of sequences\n",
    "def generateData(videos_list):\n",
    "    \"\"\"\n",
    "    Parameters:\n",
    "        videos_list: this is a list which contains paths to the frames of the sequences\n",
    "    Output:\n",
    "         Return numpy file with all sequences \n",
    "  \"\"\"\n",
    "    x = []\n",
    "    y = []\n",
    "    count=1\n",
    "    for batch in videos_list:\n",
    "      read_batch = batch.split(\" \")\n",
    "      data_location = read_batch[0].split(\"/\")[5:]\n",
    "      batch_filepath = \"/content/gdrive/My Drive/Colab Notebooks/\" + str(data_location[0]) + \"/\" + str(data_location[1])\n",
    "      #batch_filepath = read_batch[0]\n",
    "      batch_framestart = int(read_batch[1])\n",
    "      label = int(read_batch[2]) # one hot encoding\n",
    "              \n",
    "      batch_images = generate_video_batch(batch_filepath, batch_framestart)\n",
    "      y.append(label)\n",
    "      x.append(batch_images)\n",
    "      print(count)\n",
    "      count=count+1\n",
    "    \n",
    "    x = np.array(x)\n",
    "    y = np.array(y)\n",
    "\n",
    "    return x, y\n"
   ]
  },
  {
   "cell_type": "code",
   "execution_count": null,
   "metadata": {},
   "outputs": [],
   "source": [
    "x_data_train, y_data_train = generateData(videos_list)\n",
    "np.save('/content/gdrive/My Drive/Thesis/Code/C3D/X_data_OriginalImagesTrain', x_data_train)\n",
    "np.save('/content/gdrive/My Drive/Thesis/Code/C3D/Y_data_OriginalImagesTrain', y_data_train)"
   ]
  },
  {
   "cell_type": "code",
   "execution_count": null,
   "metadata": {},
   "outputs": [],
   "source": [
    "x_data_test, y_data_test = generateData(videos_list_test)\n",
    "np.save('/content/gdrive/My Drive/Thesis/Code/C3D/X_data_OriginalImagesTest', x_data_test)\n",
    "np.save('/content/gdrive/My Drive/Thesis/Code/C3D/Y_data_OriginalImagesTest', y_data_test)\n"
   ]
  },
  {
   "cell_type": "code",
   "execution_count": 0,
   "metadata": {
    "colab": {
     "base_uri": "https://localhost:8080/",
     "height": 391
    },
    "colab_type": "code",
    "executionInfo": {
     "elapsed": 222513,
     "status": "ok",
     "timestamp": 1585920501927,
     "user": {
      "displayName": "Stan Ruessink",
      "photoUrl": "",
      "userId": "13009073801950091049"
     },
     "user_tz": -120
    },
    "id": "Pwg-vkeEiz8K",
    "outputId": "d031aee8-642a-4c10-a498-a35b2ed6ba73"
   },
   "outputs": [
    {
     "name": "stdout",
     "output_type": "stream",
     "text": [
      "Train images shape: (1869, 16, 112, 112, 3)\n",
      "Train labels shape: (1869,)\n",
      "Test images shape: (625, 16, 112, 112, 3)\n",
      "Test labels shape: (625,)\n",
      "Train labels: [0 0 1 ... 1 1 1]\n",
      "Test labels: [0 0 1 0 0 0 0 0 1 0 0 1 0 1 1 1 0 1 0 0 0 0 0 0 0 0 1 1 0 1 1 0 1 1 1 0 1\n",
      " 0 0 0 0 0 0 1 1 1 0 0 1 1 1 0 1 1 0 1 1 0 1 1 0 0 1 1 1 1 1 1 0 1 0 0 0 1\n",
      " 0 1 1 0 0 1 0 0 0 1 0 0 1 1 1 0 1 0 1 1 1 1 0 1 0 0 0 0 0 1 1 0 1 1 0 1 1\n",
      " 0 1 1 0 1 0 0 0 1 0 1 1 0 1 0 1 0 1 1 0 0 0 1 1 1 0 0 0 0 1 0 0 1 1 1 0 1\n",
      " 1 0 1 1 1 0 0 0 1 0 0 1 0 1 1 0 1 1 1 0 0 1 1 1 0 1 1 1 0 1 0 1 0 1 0 1 1\n",
      " 1 1 1 1 0 0 0 1 0 0 1 0 1 0 0 0 1 0 0 1 1 0 0 0 0 1 1 0 1 0 0 0 1 1 1 0 1\n",
      " 0 1 1 0 1 0 0 1 1 0 0 0 1 1 1 0 1 0 1 1 0 0 1 0 1 1 1 0 1 1 1 1 0 1 0 0 1\n",
      " 0 0 1 0 0 1 1 0 1 1 0 0 0 1 0 0 0 0 1 0 1 1 0 1 0 1 0 1 0 0 1 0 1 0 1 0 0\n",
      " 1 1 0 0 0 1 1 0 0 1 0 0 1 0 1 0 0 0 1 0 0 1 1 0 1 0 0 1 1 1 0 1 1 0 0 0 1\n",
      " 1 0 0 1 1 0 1 0 1 0 0 1 0 1 1 1 1 0 1 1 0 1 1 1 0 1 0 0 1 0 0 1 1 0 1 0 1\n",
      " 1 1 0 1 1 0 1 1 1 0 1 1 0 1 1 0 1 0 0 1 0 1 1 1 1 1 1 0 0 1 1 0 0 0 0 0 1\n",
      " 0 0 0 1 1 0 0 0 0 0 0 1 0 0 1 0 1 1 1 0 1 1 1 0 1 0 0 0 0 0 0 1 0 0 0 0 0\n",
      " 0 1 1 1 0 0 1 0 1 1 0 0 1 1 1 1 1 0 0 1 1 0 0 0 1 1 1 1 1 0 1 1 1 0 1 0 1\n",
      " 1 0 1 0 0 0 1 1 1 1 0 1 1 0 0 0 0 1 0 1 0 1 0 1 1 0 1 1 1 1 1 0 0 1 1 1 0\n",
      " 1 0 0 1 1 1 1 0 1 1 1 0 1 1 1 0 1 0 0 1 1 0 1 1 1 1 1 0 1 1 0 0 1 1 0 1 1\n",
      " 0 0 1 1 1 0 0 1 1 1 1 1 0 1 0 1 1 1 1 0 1 0 1 1 0 1 0 1 0 0 1 0 1 0 0 0 1\n",
      " 0 0 0 0 0 1 1 0 1 0 1 1 0 0 0 1 0 1 1 0 1 1 0 0 0 1 1 0 0 0 1 0 1]\n"
     ]
    }
   ],
   "source": [
    "#load the saved data\n",
    "x_data_array = np.load('/content/gdrive/My Drive/Thesis/Code/C3D/X_data_OriginalImagesTrain.npy')\n",
    "y_data_array = np.load('/content/gdrive/My Drive/Thesis/Code/C3D/Y_data_OriginalImagesTrain.npy')\n",
    "x_data_test_array = np.load('/content/gdrive/My Drive/Thesis/Code/C3D/X_data_OriginalImagesTest.npy')\n",
    "y_data_test_array = np.load('/content/gdrive/My Drive/Thesis/Code/C3D/Y_data_OriginalImagesTest.npy')\n",
    "\n",
    "#get summary of loaded data\n",
    "def data_summary(X_train, y_train, X_test, y_test):\n",
    "    \"\"\"Summarize current state of dataset\"\"\"\n",
    "    print('Train images shape:', X_train.shape)\n",
    "    print('Train labels shape:', y_train.shape)\n",
    "    print('Test images shape:', X_test.shape)\n",
    "    print('Test labels shape:', y_test.shape)\n",
    "    print('Train labels:', y_train)\n",
    "    print('Test labels:', y_test)\n",
    "\n",
    "data_summary(x_data_array, y_data_array, x_data_test_array, y_data_test_array)"
   ]
  }
 ],
 "metadata": {
  "accelerator": "GPU",
  "colab": {
   "collapsed_sections": [],
   "machine_shape": "hm",
   "name": "Copy of Feature Extraction.ipynb",
   "provenance": []
  },
  "kernelspec": {
   "display_name": "Python 3",
   "language": "python",
   "name": "python3"
  },
  "language_info": {
   "codemirror_mode": {
    "name": "ipython",
    "version": 3
   },
   "file_extension": ".py",
   "mimetype": "text/x-python",
   "name": "python",
   "nbconvert_exporter": "python",
   "pygments_lexer": "ipython3",
   "version": "3.6.9"
  }
 },
 "nbformat": 4,
 "nbformat_minor": 1
}
